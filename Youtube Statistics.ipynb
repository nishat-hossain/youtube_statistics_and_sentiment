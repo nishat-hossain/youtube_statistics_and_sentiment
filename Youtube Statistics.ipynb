{
 "cells": [
  {
   "cell_type": "markdown",
   "id": "1e8de894",
   "metadata": {},
   "source": [
    "<h2>Youtube Statistics & Sentiment Analysis with SQL<h2>"
   ]
  },
  {
   "cell_type": "markdown",
   "id": "743a632d",
   "metadata": {},
   "source": [
    "We'll analyze a sample of 2000 youtube videos to glean insights into various video categories for popularity and sentiment. The original data can be found [here](https://www.kaggle.com/datasets/advaypatil/youtube-statistics). I cleaned the keyword metadata with Python Pandas library prior to loading it into this notebook."
   ]
  },
  {
   "cell_type": "markdown",
   "id": "d7dcdbb3",
   "metadata": {},
   "source": [
    "<h3>Preparing the Data<h3>"
   ]
  },
  {
   "cell_type": "markdown",
   "id": "46d69577",
   "metadata": {},
   "source": [
    "We'll start by converting the original .csv files into a SQL database. First we'll create an empty database with 2 empty tables to store the 2 csv files: the videos table with all the video data, and the comments table with all the comments associated with each video in the videos table."
   ]
  },
  {
   "cell_type": "code",
   "execution_count": 90,
   "id": "9f46c4b8",
   "metadata": {},
   "outputs": [],
   "source": [
    "import sqlite3\n",
    "from pathlib import Path\n",
    "\n",
    "Path(\"youtube.db\").touch()\n",
    "\n",
    "conn = sqlite3.connect(\"youtube.db\")\n",
    "c = conn.cursor()"
   ]
  },
  {
   "cell_type": "code",
   "execution_count": 91,
   "id": "64da7d61",
   "metadata": {},
   "outputs": [
    {
     "data": {
      "text/plain": [
       "<sqlite3.Cursor at 0x7fa2c185b3c0>"
      ]
     },
     "execution_count": 91,
     "metadata": {},
     "output_type": "execute_result"
    }
   ],
   "source": [
    "video_table = \"\"\"CREATE TABLE videos (\n",
    "           title text, video_id text, \n",
    "           published_at, keyword text, \n",
    "           likes int, comments int, \n",
    "           views int\n",
    "                );\"\"\"\n",
    "comments_table = \"\"\"CREATE TABLE comments (\n",
    "              row int, video_id text, \n",
    "              comment text, likes int, sentiment int\n",
    "                );\"\"\"\n",
    "\n",
    "c.execute(video_table)\n",
    "c.execute(comments_table)"
   ]
  },
  {
   "cell_type": "markdown",
   "id": "9b349d58",
   "metadata": {},
   "source": [
    "Next will load the data from the csv files into the database file we just created, and then run a test query to check that the data imported correctly."
   ]
  },
  {
   "cell_type": "code",
   "execution_count": 92,
   "id": "85ba98ec",
   "metadata": {},
   "outputs": [
    {
     "data": {
      "text/plain": [
       "18409"
      ]
     },
     "execution_count": 92,
     "metadata": {},
     "output_type": "execute_result"
    }
   ],
   "source": [
    "import pandas as pd\n",
    "\n",
    "videos = pd.read_csv(\"videos.csv\")\n",
    "videos.to_sql(\"videos\", conn, if_exists=\"append\", index=False)\n",
    "\n",
    "comments = pd.read_csv(\"comments.csv\")\n",
    "comments.to_sql(\"comments\", conn, if_exists=\"append\", index=False)"
   ]
  },
  {
   "cell_type": "code",
   "execution_count": 93,
   "id": "0be35ed5",
   "metadata": {},
   "outputs": [
    {
     "data": {
      "text/plain": [
       "[('Apple Pay Is Killing the Physical Wallet After Only Eight Years | Tech News Briefing Podcast | WSJ',\n",
       "  'wAZZ-UWGVHI',\n",
       "  '8/23/22',\n",
       "  'tech',\n",
       "  3407,\n",
       "  672,\n",
       "  135612),\n",
       " ('The most EXPENSIVE thing I own.',\n",
       "  'b3x28s61q3c',\n",
       "  '8/24/22',\n",
       "  'tech',\n",
       "  76779,\n",
       "  4306,\n",
       "  1758063)]"
      ]
     },
     "execution_count": 93,
     "metadata": {},
     "output_type": "execute_result"
    }
   ],
   "source": [
    "test_query = \"\"\"SELECT * FROM videos\"\"\"\n",
    "c.execute(test_query).fetchmany(2)"
   ]
  },
  {
   "cell_type": "code",
   "execution_count": 94,
   "id": "ad0b278e",
   "metadata": {},
   "outputs": [
    {
     "data": {
      "text/plain": [
       "[(None,\n",
       "  'wAZZ-UWGVHI',\n",
       "  \"Let's not forget that Apple Pay in 2014 required a brand new iPhone in order to use it.  A significant portion of Apple's user base wasn't able to use it even if they wanted to.  As each successive iPhone incorporated the technology and older iPhones were replaced the number of people who could use the technology increased.\",\n",
       "  95,\n",
       "  1),\n",
       " (None,\n",
       "  'wAZZ-UWGVHI',\n",
       "  'Here in NZ 50% of retailers don’t even have contactless credit card machines like pay-wave which support Apple Pay. They don’t like the high fees that come with these.',\n",
       "  19,\n",
       "  0)]"
      ]
     },
     "execution_count": 94,
     "metadata": {},
     "output_type": "execute_result"
    }
   ],
   "source": [
    "test_query_2 = \"\"\"SELECT * FROM comments\"\"\"\n",
    "c.execute(test_query_2).fetchmany(2)"
   ]
  },
  {
   "cell_type": "markdown",
   "id": "8d67c8bc",
   "metadata": {},
   "source": [
    "Now that we have our Youtube SQL database, let's do some analysis."
   ]
  },
  {
   "cell_type": "markdown",
   "id": "8c1f1d7d",
   "metadata": {},
   "source": [
    "<h3>Querying Youtube Summary Statistics<h3>"
   ]
  },
  {
   "cell_type": "markdown",
   "id": "b6f97fcb",
   "metadata": {},
   "source": [
    "Let's start by looking at the top ten most commented on & top ten most liked videos:\n"
   ]
  },
  {
   "cell_type": "code",
   "execution_count": 95,
   "id": "ffd55f14",
   "metadata": {},
   "outputs": [
    {
     "data": {
      "text/plain": [
       "[('El Chombo - Dame Tu Cosita feat. Cutty Ranks (Official Video) [Ultra Music]',\n",
       "  732818,\n",
       "  'music'),\n",
       " ('I Opened A Restaurant That Pays You To Eat At It', 728774, 'mrbeast'),\n",
       " ('$456,000 Squid Game In Real Life!', 611757, 'mrbeast'),\n",
       " ('One Direction - History (Official Video)', 434688, 'music'),\n",
       " ('history of the entire world, i guess', 395657, 'history'),\n",
       " ('Martin Garrix - Animals (Official Video)', 335455, 'music'),\n",
       " ('PIKOTARO - PPAP (Pen Pineapple Apple Pen) (Long Version) [Official Video]',\n",
       "  294428,\n",
       "  'music'),\n",
       " ('The Weeknd - Save Your Tears (Official Music Video)', 270948, 'music'),\n",
       " ('I Spent 50 Hours Buried Alive', 239172, 'mrbeast'),\n",
       " ('I Gave My 100,000,000th Subscriber An Island', 224423, 'mrbeast')]"
      ]
     },
     "execution_count": 95,
     "metadata": {},
     "output_type": "execute_result"
    }
   ],
   "source": [
    "most_commented = \"\"\"\n",
    "SELECT title, comments, keyword\n",
    "FROM videos\n",
    "ORDER BY comments DESC\n",
    "LIMIT 10;\n",
    "\"\"\"\n",
    "c.execute(most_commented).fetchall()"
   ]
  },
  {
   "cell_type": "code",
   "execution_count": 96,
   "id": "bc03ac6d",
   "metadata": {},
   "outputs": [
    {
     "data": {
      "text/plain": [
       "[('El Chombo - Dame Tu Cosita feat. Cutty Ranks (Official Video) [Ultra Music]',\n",
       "  16445558,\n",
       "  'music'),\n",
       " ('$456,000 Squid Game In Real Life!', 14259033, 'mrbeast'),\n",
       " ('Martin Garrix - Animals (Official Video)', 11025176, 'music'),\n",
       " ('Powfu - death bed (coffee for your head) (Official Video) ft. beabadoobee',\n",
       "  7786057,\n",
       "  'music'),\n",
       " ('The Weeknd - Save Your Tears (Official Music Video)', 6823113, 'music'),\n",
       " ('Glass Animals - Heat Waves (Official Video)', 6177588, 'music'),\n",
       " ('I Spent 50 Hours Buried Alive', 6055504, 'mrbeast'),\n",
       " ('Maroon 5 - Animals (Official Music Video)', 5743875, 'music'),\n",
       " ('history of the entire world, i guess', 5471653, 'history'),\n",
       " ('One Direction - History (Official Video)', 5400589, 'music')]"
      ]
     },
     "execution_count": 96,
     "metadata": {},
     "output_type": "execute_result"
    }
   ],
   "source": [
    "most_commented = \"\"\"\n",
    "SELECT title, likes, keyword\n",
    "FROM videos\n",
    "ORDER BY likes DESC\n",
    "LIMIT 10;\n",
    "\"\"\"\n",
    "c.execute(most_commented).fetchall()"
   ]
  },
  {
   "cell_type": "markdown",
   "id": "bf488571",
   "metadata": {},
   "source": [
    "There's overlap between the most liked and commented videos, and these videos tend to mostly fall into the keywords of music & Mr.Beast content. These trends we see in our sample are confirmed by this [Statista article](https://www.statista.com/statistics/249396/top-youtube-videos-views/) that demonstrates the most popular videos on Youtube in 2023 are music videos, and this Wikipedia article showing that [Mr.Beast](https://en.wikipedia.org/wiki/List_of_most-subscribed_YouTube_channels) is the second most subscribed to Youtube channel, the first most subscribed channel being T-Series which is a music channel. "
   ]
  },
  {
   "cell_type": "markdown",
   "id": "3e3ff09d",
   "metadata": {},
   "source": [
    "Next let's look at the top ten most viewed categories and top ten most liked categories.  "
   ]
  },
  {
   "cell_type": "code",
   "execution_count": 103,
   "id": "509ef628",
   "metadata": {},
   "outputs": [
    {
     "data": {
      "text/plain": [
       "[('mrbeast', 37550877),\n",
       " ('music', 15040548),\n",
       " ('animals', 10155588),\n",
       " ('education', 6216027),\n",
       " ('challenge', 6055668),\n",
       " ('food', 5451348),\n",
       " ('sports', 5093587),\n",
       " ('literature', 4231789),\n",
       " ('data science', 2586478),\n",
       " ('how-to', 2361410)]"
      ]
     },
     "execution_count": 103,
     "metadata": {},
     "output_type": "execute_result"
    }
   ],
   "source": [
    "most_viewed = \"\"\"\n",
    "SELECT keyword, views\n",
    "FROM videos\n",
    "GROUP BY keyword\n",
    "ORDER BY views DESC\n",
    "LIMIT 10;\n",
    "\"\"\"\n",
    "c.execute(most_viewed).fetchall()"
   ]
  },
  {
   "cell_type": "code",
   "execution_count": 104,
   "id": "cfe37bb3",
   "metadata": {},
   "outputs": [
    {
     "data": {
      "text/plain": [
       "[('mrbeast', 1962726),\n",
       " ('music', 275577),\n",
       " ('education', 137327),\n",
       " ('how-to', 135155),\n",
       " ('food', 112098),\n",
       " ('challenge', 85527),\n",
       " ('literature', 56906),\n",
       " ('biology', 56774),\n",
       " ('data science', 55282),\n",
       " ('google', 52147)]"
      ]
     },
     "execution_count": 104,
     "metadata": {},
     "output_type": "execute_result"
    }
   ],
   "source": [
    "most_liked = \"\"\"\n",
    "SELECT keyword, likes\n",
    "FROM videos\n",
    "GROUP BY keyword\n",
    "ORDER BY likes DESC\n",
    "LIMIT 10;\n",
    "\"\"\"\n",
    "c.execute(most_liked).fetchall()"
   ]
  },
  {
   "cell_type": "markdown",
   "id": "102a5072",
   "metadata": {},
   "source": [
    "As expected the two most viewed and liked categories are music & Mr.Beast content. But does this necessarily indicate a positive sentiment? We'll do a sentiment analysis at the end of the notebook to answer this question. For now we'll look at a final few more statistics. "
   ]
  },
  {
   "cell_type": "markdown",
   "id": "01b1439e",
   "metadata": {},
   "source": [
    "Most-liked Comments"
   ]
  },
  {
   "cell_type": "code",
   "execution_count": 110,
   "id": "acc7c3bd",
   "metadata": {},
   "outputs": [
    {
     "data": {
      "text/plain": [
       "[('mrbeast',\n",
       "  'Like I said in the video, subscribe if you haven’t already and you could win $10,000!',\n",
       "  891372,\n",
       "  '$456,000 Squid Game In Real Life!'),\n",
       " ('mrbeast',\n",
       "  'Huge props to the set designers, everything was spot on!',\n",
       "  469175,\n",
       "  '$456,000 Squid Game In Real Life!'),\n",
       " ('mrbeast',\n",
       "  'This is insanity, never done before in the history of this platform. Hats off to you Jimmy 👏',\n",
       "  378181,\n",
       "  '$456,000 Squid Game In Real Life!'),\n",
       " ('mrbeast',\n",
       "  'Like I said in the video, subscribe if you haven’t already and you could win $10,000!',\n",
       "  268266,\n",
       "  'I Spent 50 Hours Buried Alive'),\n",
       " ('mrbeast',\n",
       "  \"Subscribe and i'll give you a car\",\n",
       "  260871,\n",
       "  '24 Hours In The Most Haunted Place On Earth')]"
      ]
     },
     "execution_count": 110,
     "metadata": {},
     "output_type": "execute_result"
    }
   ],
   "source": [
    "most_liked_comments = \"\"\"\n",
    "\n",
    "WITH joined_comments AS ( \n",
    "SELECT c.video_id as id, c.comment as comment, c.likes as likes, v.title as title, v.keyword as keyword\n",
    "FROM comments c\n",
    "LEFT JOIN videos v ON c.video_id=v.video_id\n",
    ")\n",
    "\n",
    "SELECT keyword, comment, likes, title \n",
    "FROM joined_comments\n",
    "ORDER BY likes DESC\n",
    "LIMIT 5;\n",
    "\"\"\"\n",
    "c.execute(most_liked_comments).fetchall()"
   ]
  },
  {
   "cell_type": "markdown",
   "id": "eb721cea",
   "metadata": {},
   "source": [
    "The most liked comments are all associated with Mr.Beast videos. "
   ]
  },
  {
   "cell_type": "markdown",
   "id": "8a10d98d",
   "metadata": {},
   "source": [
    "Next, let's take a look at the ratio of Views-to-Likes per Category:"
   ]
  },
  {
   "cell_type": "code",
   "execution_count": 123,
   "id": "c6bdd20c",
   "metadata": {},
   "outputs": [
    {
     "data": {
      "text/plain": [
       "[('reaction', 12.6),\n",
       " ('chess', 9.7),\n",
       " ('nintendo', 9.6),\n",
       " ('trolling', 7.2),\n",
       " ('marvel', 6.3)]"
      ]
     },
     "execution_count": 123,
     "metadata": {},
     "output_type": "execute_result"
    }
   ],
   "source": [
    "ratio_category = \"\"\"\n",
    "\n",
    "WITH joined_comments AS ( \n",
    "SELECT c.video_id as id, c.comment as comment, v.likes as likes, \n",
    "       v.views as views, v.title as title, v.keyword as keyword\n",
    "FROM comments c\n",
    "LEFT JOIN videos v ON c.video_id=v.video_id\n",
    ")\n",
    "\n",
    "SELECT keyword, ROUND(100*CAST (likes AS FLOAT)/views, 1) AS ratio\n",
    "FROM joined_comments\n",
    "GROUP BY keyword\n",
    "ORDER BY ratio DESC\n",
    "LIMIT 5;\n",
    "\"\"\"\n",
    "c.execute(ratio_category).fetchall()"
   ]
  },
  {
   "cell_type": "markdown",
   "id": "7f203a0a",
   "metadata": {},
   "source": [
    "Even videos with the highest ratio of likes to views, seem to have a low percentage of likes. This indicates that likes alone cannot determine whether sentiment towards a category is positive. For example, in the \"reaction\" category only 12.6% of people who watched the videos liked them: does this imply that the remaining 87.4% disliked the video? Or that they felt neutral about it? To answer this question we will need more context. <br>\n",
    "\n",
    "One way to get this necessary context is by delving into a sentiment analysis of the comments associated with all the videos in each category. We will do this in the next section. <br>"
   ]
  },
  {
   "cell_type": "markdown",
   "id": "c3a3b331",
   "metadata": {},
   "source": [
    "<h3>Average Sentiment for Each Keyword Category<h3>"
   ]
  },
  {
   "cell_type": "markdown",
   "id": "2f8560fc",
   "metadata": {},
   "source": [
    "We will calculate the sentiment percentage by writing a query that fetches the frequency of positive, negative, and neutral comments for videos in each category, and divide each frequency by the total number of comments for that category. \n",
    "\n",
    "Our final output will be a table with each keyword, positive sentiment %, neutral sentiment %, and negative sentiment %. "
   ]
  },
  {
   "cell_type": "code",
   "execution_count": 97,
   "id": "f7860387",
   "metadata": {},
   "outputs": [
    {
     "data": {
      "text/plain": [
       "[('challenge', 87.0, 10.0, 3.0),\n",
       " ('machine learning', 78.0, 19.0, 3.0),\n",
       " ('mathchemistry', 77.0, 16.0, 7.0),\n",
       " ('lofi', 76.0, 18.0, 6.0),\n",
       " ('food', 75.0, 16.0, 10.0),\n",
       " ('tutorial', 75.0, 20.0, 5.0),\n",
       " ('mrbeast', 73.0, 19.0, 8.0),\n",
       " ('data science', 71.0, 23.0, 6.0),\n",
       " ('music', 71.0, 23.0, 6.0),\n",
       " ('asmr', 70.0, 23.0, 7.0),\n",
       " ('game development', 70.0, 21.0, 9.0),\n",
       " ('literature', 70.0, 19.0, 11.0),\n",
       " ('how-to', 69.0, 21.0, 10.0),\n",
       " ('interview', 69.0, 21.0, 10.0),\n",
       " ('mukbang', 68.0, 23.0, 8.0),\n",
       " ('physics', 68.0, 26.0, 7.0),\n",
       " ('computer science', 66.0, 25.0, 9.0),\n",
       " ('tech', 65.0, 23.0, 12.0),\n",
       " ('vlog', 65.0, 24.0, 10.0),\n",
       " ('biology', 64.0, 24.0, 12.0),\n",
       " ('nintendo', 64.0, 25.0, 11.0),\n",
       " ('animals', 63.0, 25.0, 12.0),\n",
       " ('reaction', 63.0, 28.0, 9.0),\n",
       " ('sports', 63.0, 24.0, 13.0),\n",
       " ('business', 62.0, 24.0, 14.0),\n",
       " ('chess', 61.0, 28.0, 11.0),\n",
       " ('gaming', 61.0, 29.0, 10.0),\n",
       " ('movies', 61.0, 29.0, 10.0),\n",
       " ('sat', 59.0, 26.0, 16.0),\n",
       " ('xbox', 59.0, 29.0, 12.0),\n",
       " ('google', 58.0, 26.0, 16.0),\n",
       " ('crypto', 57.0, 29.0, 14.0),\n",
       " ('apple', 56.0, 28.0, 15.0),\n",
       " ('cubes', 56.0, 31.0, 13.0),\n",
       " ('marvel', 56.0, 37.0, 8.0),\n",
       " ('history', 55.0, 27.0, 18.0),\n",
       " ('minecraft', 55.0, 39.0, 6.0),\n",
       " ('education', 51.0, 21.0, 27.0),\n",
       " ('trolling', 48.0, 25.0, 27.0),\n",
       " ('news', 47.0, 31.0, 22.0),\n",
       " ('finance', 46.0, 31.0, 24.0),\n",
       " ('cnn', 15.0, 30.0, 55.0)]"
      ]
     },
     "execution_count": 97,
     "metadata": {},
     "output_type": "execute_result"
    }
   ],
   "source": [
    "keyword_sentiment = \"\"\"\n",
    "WITH joined AS ( \n",
    "SELECT c.video_id, c.comment, c.sentiment, v.title, v.keyword\n",
    "FROM comments c\n",
    "LEFT JOIN videos v ON c.video_id=v.video_id\n",
    "),\n",
    "\n",
    "sentiment_count AS (\n",
    "SELECT keyword, sentiment, COUNT(*) AS count\n",
    "FROM joined\n",
    "GROUP BY keyword, sentiment\n",
    "),\n",
    "\n",
    "positive AS (\n",
    "SELECT keyword, count \n",
    "FROM sentiment_count \n",
    "WHERE sentiment=\"2\"\n",
    "),\n",
    "\n",
    "negative AS (\n",
    "SELECT keyword, count \n",
    "FROM sentiment_count \n",
    "WHERE sentiment=\"0\"\n",
    "),\n",
    "\n",
    "neutral AS (\n",
    "SELECT keyword, count \n",
    "FROM sentiment_count \n",
    "WHERE sentiment=\"1\"\n",
    "),\n",
    "\n",
    "sentiment_table AS (\n",
    "SELECT p.keyword AS keyword, \n",
    "       p.count AS positive, \n",
    "       neu.count AS neutral, \n",
    "       n.count AS negative,\n",
    "       (p.count+neu.count+n.count) AS total\n",
    "FROM positive p\n",
    "LEFT JOIN negative n ON p.keyword=n.keyword\n",
    "LEFT JOIN neutral neu ON n.keyword=neu.keyword\n",
    ")\n",
    "\n",
    "SELECT keyword, \n",
    "       ROUND(100*CAST(positive AS FLOAT)/total) as positive,\n",
    "       ROUND(100*CAST(neutral AS FLOAT)/total) as neutral,\n",
    "       ROUND(100*CAST(negative AS FLOAT)/total) as negative\n",
    "  FROM sentiment_table\n",
    "ORDER BY positive DESC\n",
    ";\n",
    "\"\"\"\n",
    "c.execute(keyword_sentiment).fetchall()\n",
    "\n",
    "#Output is a table with: keyword, positive sentiment %, neutral sentiment %, & negative sentiment %"
   ]
  },
  {
   "cell_type": "markdown",
   "id": "2e02c4c3",
   "metadata": {},
   "source": [
    "Highest positive sentiment categories are associated with challenge (87% positive), learning (machine learning 78% and \"math chemistry\" 77% positive), food (75% positive), music (71% positive for music category and 76% for lo-fi which is a niche Youtube music trend), and ASMR (70% positive). This is different from the top categories for the highest like-to-view ratios.\n",
    "\n",
    "Highest negative & neutral sentiment keywords are associated with news (cnn 55% negative, while news itself is only 47% positive, 31% neutral, and 22% negative), finance (46% positive, 31% neutral, and 24% negative), and trolling. News, finance, & trolling related topics can often tread into divisive & controversial topics, which explains the higher negative and/or neutral sentiment. \n"
   ]
  },
  {
   "cell_type": "markdown",
   "id": "51f4ff39",
   "metadata": {},
   "source": [
    "<H3>Conclusion<H3>"
   ]
  },
  {
   "cell_type": "markdown",
   "id": "5c8c8dea",
   "metadata": {},
   "source": [
    "While previously we saw that the 'reaction', 'chess','nintendo','trolling', and 'marvel' categories had the top 5 like-to-comments ratios, here those categories fall towards the lower end of positive sentiment, with trolling having only 48% positive sentiment. Instead, different top categories emerge when we look through the lens of comment sentiment analysis: challenge, learning, food, music, and ASMR. This shows that likes alone does not give us a complete picture. Looking at sentiment in the comments section allows us to build a more complete picture of audience & consumer sentiment.  \n",
    "\n",
    "Similarly, while Mr.Beast videos were the most viewed and liked, and also had the most liked comments, surprisingly other categories beat out Mr.Beast in terms of positive sentiment. One potential cause for this could be that niche categories like \"machine learning\" and \"lo-fi\" are simply more likely to have a highely invested audience. It's also interesting to see non-Mr.Beast challenge videos beat out Mr.Beast content in terms of sentiment: again, it could simply be owing to a niche, loyal fan-base."
   ]
  }
 ],
 "metadata": {
  "kernelspec": {
   "display_name": "Python 3 (ipykernel)",
   "language": "python",
   "name": "python3"
  },
  "language_info": {
   "codemirror_mode": {
    "name": "ipython",
    "version": 3
   },
   "file_extension": ".py",
   "mimetype": "text/x-python",
   "name": "python",
   "nbconvert_exporter": "python",
   "pygments_lexer": "ipython3",
   "version": "3.10.9"
  }
 },
 "nbformat": 4,
 "nbformat_minor": 5
}
